{
 "cells": [
  {
   "cell_type": "markdown",
   "id": "0d711cfe",
   "metadata": {},
   "source": [
    "##Write a Python program to reverse a string.\n",
    "\n",
    "﻿Sample String : \"1234abcd\"\n",
    "\n",
    "Expected Output : \"dcba4321\"\n",
    "\n"
   ]
  },
  {
   "cell_type": "code",
   "execution_count": 5,
   "id": "262ddff3",
   "metadata": {},
   "outputs": [
    {
     "name": "stdout",
     "output_type": "stream",
     "text": [
      "The given string is 1234abcd\n",
      "The required output is dcba4321\n"
     ]
    }
   ],
   "source": [
    "string = \"1234abcd\"\n",
    "def reverse(string):\n",
    "    x = \"\"\n",
    "    for i in string:\n",
    "        x = i + x\n",
    "    return x\n",
    "print(\"The given string is\",string)\n",
    "print(\"The required output is\",reverse(string))"
   ]
  },
  {
   "cell_type": "code",
   "execution_count": null,
   "id": "f3fb4240",
   "metadata": {},
   "outputs": [],
   "source": []
  },
  {
   "cell_type": "code",
   "execution_count": null,
   "id": "f238b66f",
   "metadata": {},
   "outputs": [],
   "source": []
  }
 ],
 "metadata": {
  "kernelspec": {
   "display_name": "Python 3 (ipykernel)",
   "language": "python",
   "name": "python3"
  },
  "language_info": {
   "codemirror_mode": {
    "name": "ipython",
    "version": 3
   },
   "file_extension": ".py",
   "mimetype": "text/x-python",
   "name": "python",
   "nbconvert_exporter": "python",
   "pygments_lexer": "ipython3",
   "version": "3.8.10"
  }
 },
 "nbformat": 4,
 "nbformat_minor": 5
}
